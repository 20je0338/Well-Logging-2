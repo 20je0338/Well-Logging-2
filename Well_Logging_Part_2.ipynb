{
  "nbformat": 4,
  "nbformat_minor": 0,
  "metadata": {
    "colab": {
      "provenance": []
    },
    "kernelspec": {
      "name": "python3",
      "display_name": "Python 3"
    },
    "language_info": {
      "name": "python"
    }
  },
  "cells": [
    {
      "cell_type": "code",
      "execution_count": null,
      "metadata": {
        "id": "ARbMv0zpWJGA"
      },
      "outputs": [],
      "source": [
        "import numpy as np\n",
        "import pandas as pd\n",
        "import seaborn as sns\n",
        "import matplotlib.pyplot as plt\n",
        "%matplotlib inline"
      ]
    },
    {
      "cell_type": "code",
      "source": [
        "from google.colab import files\n",
        "uploaded = files.upload()"
      ],
      "metadata": {
        "id": "7NtbPECtWWfx",
        "colab": {
          "base_uri": "https://localhost:8080/",
          "height": 38
        },
        "outputId": "4204a52f-a1e7-4358-adb9-15b9c810ca98"
      },
      "execution_count": null,
      "outputs": [
        {
          "data": {
            "text/html": [
              "\n",
              "     <input type=\"file\" id=\"files-66320c1f-7c00-4cb8-b14e-25f3a52421c8\" name=\"files[]\" multiple disabled\n",
              "        style=\"border:none\" />\n",
              "     <output id=\"result-66320c1f-7c00-4cb8-b14e-25f3a52421c8\">\n",
              "      Upload widget is only available when the cell has been executed in the\n",
              "      current browser session. Please rerun this cell to enable.\n",
              "      </output>\n",
              "      <script>// Copyright 2017 Google LLC\n",
              "//\n",
              "// Licensed under the Apache License, Version 2.0 (the \"License\");\n",
              "// you may not use this file except in compliance with the License.\n",
              "// You may obtain a copy of the License at\n",
              "//\n",
              "//      http://www.apache.org/licenses/LICENSE-2.0\n",
              "//\n",
              "// Unless required by applicable law or agreed to in writing, software\n",
              "// distributed under the License is distributed on an \"AS IS\" BASIS,\n",
              "// WITHOUT WARRANTIES OR CONDITIONS OF ANY KIND, either express or implied.\n",
              "// See the License for the specific language governing permissions and\n",
              "// limitations under the License.\n",
              "\n",
              "/**\n",
              " * @fileoverview Helpers for google.colab Python module.\n",
              " */\n",
              "(function(scope) {\n",
              "function span(text, styleAttributes = {}) {\n",
              "  const element = document.createElement('span');\n",
              "  element.textContent = text;\n",
              "  for (const key of Object.keys(styleAttributes)) {\n",
              "    element.style[key] = styleAttributes[key];\n",
              "  }\n",
              "  return element;\n",
              "}\n",
              "\n",
              "// Max number of bytes which will be uploaded at a time.\n",
              "const MAX_PAYLOAD_SIZE = 100 * 1024;\n",
              "\n",
              "function _uploadFiles(inputId, outputId) {\n",
              "  const steps = uploadFilesStep(inputId, outputId);\n",
              "  const outputElement = document.getElementById(outputId);\n",
              "  // Cache steps on the outputElement to make it available for the next call\n",
              "  // to uploadFilesContinue from Python.\n",
              "  outputElement.steps = steps;\n",
              "\n",
              "  return _uploadFilesContinue(outputId);\n",
              "}\n",
              "\n",
              "// This is roughly an async generator (not supported in the browser yet),\n",
              "// where there are multiple asynchronous steps and the Python side is going\n",
              "// to poll for completion of each step.\n",
              "// This uses a Promise to block the python side on completion of each step,\n",
              "// then passes the result of the previous step as the input to the next step.\n",
              "function _uploadFilesContinue(outputId) {\n",
              "  const outputElement = document.getElementById(outputId);\n",
              "  const steps = outputElement.steps;\n",
              "\n",
              "  const next = steps.next(outputElement.lastPromiseValue);\n",
              "  return Promise.resolve(next.value.promise).then((value) => {\n",
              "    // Cache the last promise value to make it available to the next\n",
              "    // step of the generator.\n",
              "    outputElement.lastPromiseValue = value;\n",
              "    return next.value.response;\n",
              "  });\n",
              "}\n",
              "\n",
              "/**\n",
              " * Generator function which is called between each async step of the upload\n",
              " * process.\n",
              " * @param {string} inputId Element ID of the input file picker element.\n",
              " * @param {string} outputId Element ID of the output display.\n",
              " * @return {!Iterable<!Object>} Iterable of next steps.\n",
              " */\n",
              "function* uploadFilesStep(inputId, outputId) {\n",
              "  const inputElement = document.getElementById(inputId);\n",
              "  inputElement.disabled = false;\n",
              "\n",
              "  const outputElement = document.getElementById(outputId);\n",
              "  outputElement.innerHTML = '';\n",
              "\n",
              "  const pickedPromise = new Promise((resolve) => {\n",
              "    inputElement.addEventListener('change', (e) => {\n",
              "      resolve(e.target.files);\n",
              "    });\n",
              "  });\n",
              "\n",
              "  const cancel = document.createElement('button');\n",
              "  inputElement.parentElement.appendChild(cancel);\n",
              "  cancel.textContent = 'Cancel upload';\n",
              "  const cancelPromise = new Promise((resolve) => {\n",
              "    cancel.onclick = () => {\n",
              "      resolve(null);\n",
              "    };\n",
              "  });\n",
              "\n",
              "  // Wait for the user to pick the files.\n",
              "  const files = yield {\n",
              "    promise: Promise.race([pickedPromise, cancelPromise]),\n",
              "    response: {\n",
              "      action: 'starting',\n",
              "    }\n",
              "  };\n",
              "\n",
              "  cancel.remove();\n",
              "\n",
              "  // Disable the input element since further picks are not allowed.\n",
              "  inputElement.disabled = true;\n",
              "\n",
              "  if (!files) {\n",
              "    return {\n",
              "      response: {\n",
              "        action: 'complete',\n",
              "      }\n",
              "    };\n",
              "  }\n",
              "\n",
              "  for (const file of files) {\n",
              "    const li = document.createElement('li');\n",
              "    li.append(span(file.name, {fontWeight: 'bold'}));\n",
              "    li.append(span(\n",
              "        `(${file.type || 'n/a'}) - ${file.size} bytes, ` +\n",
              "        `last modified: ${\n",
              "            file.lastModifiedDate ? file.lastModifiedDate.toLocaleDateString() :\n",
              "                                    'n/a'} - `));\n",
              "    const percent = span('0% done');\n",
              "    li.appendChild(percent);\n",
              "\n",
              "    outputElement.appendChild(li);\n",
              "\n",
              "    const fileDataPromise = new Promise((resolve) => {\n",
              "      const reader = new FileReader();\n",
              "      reader.onload = (e) => {\n",
              "        resolve(e.target.result);\n",
              "      };\n",
              "      reader.readAsArrayBuffer(file);\n",
              "    });\n",
              "    // Wait for the data to be ready.\n",
              "    let fileData = yield {\n",
              "      promise: fileDataPromise,\n",
              "      response: {\n",
              "        action: 'continue',\n",
              "      }\n",
              "    };\n",
              "\n",
              "    // Use a chunked sending to avoid message size limits. See b/62115660.\n",
              "    let position = 0;\n",
              "    do {\n",
              "      const length = Math.min(fileData.byteLength - position, MAX_PAYLOAD_SIZE);\n",
              "      const chunk = new Uint8Array(fileData, position, length);\n",
              "      position += length;\n",
              "\n",
              "      const base64 = btoa(String.fromCharCode.apply(null, chunk));\n",
              "      yield {\n",
              "        response: {\n",
              "          action: 'append',\n",
              "          file: file.name,\n",
              "          data: base64,\n",
              "        },\n",
              "      };\n",
              "\n",
              "      let percentDone = fileData.byteLength === 0 ?\n",
              "          100 :\n",
              "          Math.round((position / fileData.byteLength) * 100);\n",
              "      percent.textContent = `${percentDone}% done`;\n",
              "\n",
              "    } while (position < fileData.byteLength);\n",
              "  }\n",
              "\n",
              "  // All done.\n",
              "  yield {\n",
              "    response: {\n",
              "      action: 'complete',\n",
              "    }\n",
              "  };\n",
              "}\n",
              "\n",
              "scope.google = scope.google || {};\n",
              "scope.google.colab = scope.google.colab || {};\n",
              "scope.google.colab._files = {\n",
              "  _uploadFiles,\n",
              "  _uploadFilesContinue,\n",
              "};\n",
              "})(self);\n",
              "</script> "
            ],
            "text/plain": [
              "<IPython.core.display.HTML object>"
            ]
          },
          "metadata": {},
          "output_type": "display_data"
        }
      ]
    },
    {
      "cell_type": "code",
      "source": [
        "file_path = '15_9-19.csv'\n",
        "well = pd.read_csv(file_path)"
      ],
      "metadata": {
        "id": "bPC1TO1h6Eor"
      },
      "execution_count": null,
      "outputs": []
    },
    {
      "cell_type": "code",
      "source": [
        "well.info()"
      ],
      "metadata": {
        "collapsed": true,
        "id": "kkPnhTg_WkP0"
      },
      "execution_count": null,
      "outputs": []
    },
    {
      "cell_type": "code",
      "source": [],
      "metadata": {
        "id": "vHuHlveaCUu8"
      },
      "execution_count": null,
      "outputs": []
    },
    {
      "cell_type": "markdown",
      "source": [
        "# Fluid Type Identification"
      ],
      "metadata": {
        "id": "FvE7tffCsZ8F"
      }
    },
    {
      "cell_type": "code",
      "source": [
        "well = pd.read_csv(\"15_9-19.csv\", header=0, skiprows=[1])\n"
      ],
      "metadata": {
        "id": "AIkdokf37Osd"
      },
      "execution_count": null,
      "outputs": []
    },
    {
      "cell_type": "code",
      "source": [
        "well.replace(-999.00, np.nan, inplace=True)"
      ],
      "metadata": {
        "id": "FbQoB4qi7Dxu"
      },
      "execution_count": null,
      "outputs": []
    },
    {
      "cell_type": "code",
      "source": [
        "fig, ax = plt.subplots(figsize=(15,10))\n",
        "\n",
        "#Set up the plot axes\n",
        "ax1 = plt.subplot2grid((1,7), (0,0), rowspan=1, colspan = 1)\n",
        "ax2 = plt.subplot2grid((1,7), (0,1), rowspan=1, colspan = 1)\n",
        "ax3 = plt.subplot2grid((1,7), (0,2), rowspan=1, colspan = 1)\n",
        "ax4 = plt.subplot2grid((1,7), (0,3), rowspan=1, colspan = 1)\n",
        "ax5 = ax3.twiny() #Twins the y-axis for the density track with the neutron trackS\n",
        "ax8 = plt.subplot2grid((1,7), (0,5), rowspan=1, colspan = 1)\n",
        "ax9 = plt.subplot2grid((1,7), (0,6), rowspan=1, colspan = 1)\n",
        "\n",
        "# As our curve scales will be detached from the top of the track,\n",
        "# this code adds the top border back in without dealing with splines\n",
        "ax10 = ax1.twiny()\n",
        "ax10.xaxis.set_visible(False)\n",
        "ax11 = ax2.twiny()\n",
        "ax11.xaxis.set_visible(False)\n",
        "ax12 = ax3.twiny()\n",
        "ax12.xaxis.set_visible(False)\n",
        "\n",
        "# Gamma Ray track\n",
        "ax1.plot(\"GR\", \"DEPTH\", data = well, color = \"green\")\n",
        "ax1.set_xlabel(\"Gamma\")\n",
        "ax1.xaxis.label.set_color(\"green\")\n",
        "ax1.set_xlim(0, 200)\n",
        "ax1.set_ylabel(\"Depth (m)\")\n",
        "ax1.tick_params(axis='x', colors=\"green\")\n",
        "ax1.spines[\"top\"].set_edgecolor(\"green\")\n",
        "ax1.title.set_color('green')\n",
        "ax1.set_xticks([0, 50, 100, 150, 200])\n",
        "\n",
        "# Resistivity track\n",
        "ax2.plot(\"RT\", \"DEPTH\", data = well, color = \"red\")\n",
        "ax2.set_xlabel(\"Resistivity\")\n",
        "ax2.set_xlim(0.2, 2000)\n",
        "ax2.xaxis.label.set_color(\"red\")\n",
        "ax2.tick_params(axis='x', colors=\"red\")\n",
        "ax2.spines[\"top\"].set_edgecolor(\"red\")\n",
        "ax2.set_xticks([0.1, 1, 10, 100, 1000])\n",
        "ax2.semilogx()\n",
        "\n",
        "# Density track\n",
        "ax3.plot(\"RHOB\", \"DEPTH\", data = well, color = \"red\")\n",
        "ax3.set_xlabel(\"Density\")\n",
        "ax3.set_xlim(1.95, 2.95)\n",
        "ax3.xaxis.label.set_color(\"red\")\n",
        "ax3.tick_params(axis='x', colors=\"red\")\n",
        "ax3.spines[\"top\"].set_edgecolor(\"red\")\n",
        "ax3.set_xticks([1.95, 2.45, 2.95])\n",
        "\n",
        "# Sonic track\n",
        "ax4.plot(\"DT\", \"DEPTH\", data = well, color = \"purple\")\n",
        "ax4.set_xlabel(\"Sonic\")\n",
        "ax4.set_xlim(140, 40)\n",
        "ax4.xaxis.label.set_color(\"purple\")\n",
        "ax4.tick_params(axis='x', colors=\"purple\")\n",
        "ax4.spines[\"top\"].set_edgecolor(\"purple\")\n",
        "\n",
        "# Neutron track placed ontop of density track\n",
        "ax5.plot(\"NPHI\", \"DEPTH\", data = well, color = \"blue\")\n",
        "ax5.set_xlabel('Neutron')\n",
        "ax5.xaxis.label.set_color(\"blue\")\n",
        "ax5.set_xlim(0.45, -0.15)\n",
        "ax5.set_ylim(4150, 3500)\n",
        "ax5.tick_params(axis='x', colors=\"blue\")\n",
        "ax5.spines[\"top\"].set_position((\"axes\", 1.08))\n",
        "ax5.spines[\"top\"].set_visible(True)\n",
        "ax5.spines[\"top\"].set_edgecolor(\"blue\")\n",
        "ax5.set_xticks([0.45,  0.15, -0.15])"
      ],
      "metadata": {
        "collapsed": true,
        "id": "Rz3BEbqe65Ej"
      },
      "execution_count": null,
      "outputs": []
    }
  ]
}